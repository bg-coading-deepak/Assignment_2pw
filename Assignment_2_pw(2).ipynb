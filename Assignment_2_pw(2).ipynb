{
 "cells": [
  {
   "cell_type": "markdown",
   "id": "2b3334d4",
   "metadata": {},
   "source": [
    "##### Ques No-1 Solution"
   ]
  },
  {
   "cell_type": "code",
   "execution_count": 4,
   "id": "7a870299",
   "metadata": {},
   "outputs": [
    {
     "name": "stdout",
     "output_type": "stream",
     "text": [
      "Enter the Percentage80\n",
      "Grade C\n"
     ]
    }
   ],
   "source": [
    "per = int(input(\"Enter the Percentage\"))\n",
    "if per>90:\n",
    "    print(\"Grade A\")\n",
    "elif per>80 and per<=90:\n",
    "    print(\"Grade B\")\n",
    "elif per>=60 and per<=80:\n",
    "    print(\"Grade C\")\n",
    "elif per<60:\n",
    "    print(\"Grade D\")"
   ]
  },
  {
   "cell_type": "markdown",
   "id": "86e802b0",
   "metadata": {},
   "source": [
    "##### Ques No-2 Solution"
   ]
  },
  {
   "cell_type": "code",
   "execution_count": 5,
   "id": "042d26c1",
   "metadata": {},
   "outputs": [
    {
     "name": "stdout",
     "output_type": "stream",
     "text": [
      "enter the Cost Price in Rs15000\n",
      "Tax 5%\n"
     ]
    }
   ],
   "source": [
    "price=int(input(\"enter the Cost Price in Rs\"))\n",
    "if price>100000:\n",
    "    print(\"Tax 15%\")\n",
    "elif price>50000 and price<=100000:\n",
    "    print(\"Tax 10%\")\n",
    "elif price<=50000:\n",
    "    print(\"Tax 5%\")\n",
    "\n"
   ]
  },
  {
   "cell_type": "markdown",
   "id": "032dca81",
   "metadata": {},
   "source": [
    "##### Ques No-3 Solution"
   ]
  },
  {
   "cell_type": "code",
   "execution_count": 6,
   "id": "57fc70bf",
   "metadata": {},
   "outputs": [
    {
     "name": "stdout",
     "output_type": "stream",
     "text": [
      "Enter the CityDelhi\n",
      "Red Fort\n"
     ]
    }
   ],
   "source": [
    "city=input(\"Enter the City\")\n",
    "if city==\"Delhi\":\n",
    "    print(\"Red Fort\")\n",
    "elif city==\"Agra\":\n",
    "    print(\"Taj Mahal\")\n",
    "elif city==\"Jaipur\":\n",
    "    print(\"Jal Mahal\")"
   ]
  },
  {
   "cell_type": "markdown",
   "id": "aef8a5e3",
   "metadata": {},
   "source": [
    "##### Ques No-4 Solution"
   ]
  },
  {
   "cell_type": "code",
   "execution_count": 3,
   "id": "933fdb3b",
   "metadata": {},
   "outputs": [
    {
     "name": "stdout",
     "output_type": "stream",
     "text": [
      "enter any number3\n",
      "1 times this number is divide by 3\n"
     ]
    }
   ],
   "source": [
    "num=int(input(\"enter any number\"))\n",
    "a=0\n",
    "while num//3 !=0 and num%3==0:\n",
    "    num=num//3\n",
    "    \n",
    "    a=a+1\n",
    "print(a,\"times\",\"this number is divide by 3\")"
   ]
  },
  {
   "cell_type": "markdown",
   "id": "bad1c454",
   "metadata": {},
   "source": [
    "##### Ques No-5 Solution"
   ]
  },
  {
   "cell_type": "markdown",
   "id": "95c85a61",
   "metadata": {},
   "source": [
    "while loop is used to reprat a specific block of code an unknown number of times,\n",
    "untill a condition is met.\n",
    "example :-\n"
   ]
  },
  {
   "cell_type": "code",
   "execution_count": 7,
   "id": "d1cfe343",
   "metadata": {},
   "outputs": [
    {
     "name": "stdout",
     "output_type": "stream",
     "text": [
      "Enter the number10\n",
      "0\n",
      "1\n",
      "1\n",
      "2\n",
      "3\n",
      "5\n",
      "8\n",
      "13\n",
      "21\n",
      "34\n"
     ]
    }
   ],
   "source": [
    "# Fibbonaci series\n",
    "num=int(input(\"Enter the number\"))\n",
    "a,b=0,1\n",
    "for i in range(num):\n",
    "    print(a)\n",
    "    c=a+b\n",
    "    a=b\n",
    "    b=c"
   ]
  },
  {
   "cell_type": "markdown",
   "id": "e9c2aada",
   "metadata": {},
   "source": [
    "##### Ques no-6 Solution"
   ]
  },
  {
   "cell_type": "code",
   "execution_count": 8,
   "id": "0857e157",
   "metadata": {},
   "outputs": [
    {
     "name": "stdout",
     "output_type": "stream",
     "text": [
      "1  \n",
      "1 2  \n",
      "1 2 3  \n"
     ]
    }
   ],
   "source": [
    "i=1\n",
    "while i<=3:\n",
    "    j=1\n",
    "    while j<=i:\n",
    "        print(j,end=\" \")\n",
    "        j=j+1\n",
    "    print(\" \")\n",
    "    i=i+1"
   ]
  },
  {
   "cell_type": "markdown",
   "id": "c5e93425",
   "metadata": {},
   "source": [
    "##### Ques No-7 Solutioin"
   ]
  },
  {
   "cell_type": "code",
   "execution_count": 9,
   "id": "f803d4b3",
   "metadata": {},
   "outputs": [
    {
     "name": "stdout",
     "output_type": "stream",
     "text": [
      "10 9 8 7 6 5 4 3 2 1 "
     ]
    }
   ],
   "source": [
    "n=10\n",
    "while n>=1:\n",
    "    print(n, end=\" \")\n",
    "    n=n-1"
   ]
  },
  {
   "cell_type": "markdown",
   "id": "b5902605",
   "metadata": {},
   "source": [
    "##### Ques No-8 Solutioin"
   ]
  },
  {
   "cell_type": "code",
   "execution_count": 10,
   "id": "33bd7f09",
   "metadata": {},
   "outputs": [
    {
     "name": "stdout",
     "output_type": "stream",
     "text": [
      "10 9 8 7 6 5 4 3 2 1 "
     ]
    }
   ],
   "source": [
    "n=10\n",
    "while n>=1:\n",
    "    print(n, end=\" \")\n",
    "    n=n-1"
   ]
  }
 ],
 "metadata": {
  "kernelspec": {
   "display_name": "Python 3 (ipykernel)",
   "language": "python",
   "name": "python3"
  },
  "language_info": {
   "codemirror_mode": {
    "name": "ipython",
    "version": 3
   },
   "file_extension": ".py",
   "mimetype": "text/x-python",
   "name": "python",
   "nbconvert_exporter": "python",
   "pygments_lexer": "ipython3",
   "version": "3.9.12"
  }
 },
 "nbformat": 4,
 "nbformat_minor": 5
}
